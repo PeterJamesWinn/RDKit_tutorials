{
 "cells": [
  {
   "cell_type": "code",
   "execution_count": 60,
   "metadata": {},
   "outputs": [],
   "source": [
    "from rdkit import Chem\n",
    "from rdkit.Chem import AllChem\n"
   ]
  },
  {
   "cell_type": "code",
   "execution_count": 61,
   "metadata": {},
   "outputs": [
    {
     "name": "stdout",
     "output_type": "stream",
     "text": [
      "ethanol conformers:  0\n"
     ]
    },
    {
     "data": {
      "image/png": "[encoded data removed]",
      "text/plain": [
       "<rdkit.Chem.rdchem.Mol at 0x2016a40a570>"
      ]
     },
     "execution_count": 61,
     "metadata": {},
     "output_type": "execute_result"
    }
   ],
   "source": [
    "ethanol = Chem.MolFromSmiles('CCO')\n",
    "print(\"ethanol conformers: \", ethanol.GetNumConformers())\n",
    "if ethanol.GetNumConformers() != 0:\n",
    "    print(\"is 3D? \", ethanol.GetConformer().Is3D())\n",
    "ethanol  # prints image of CCO\n",
    "\n",
    "\n"
   ]
  },
  {
   "cell_type": "code",
   "execution_count": 62,
   "metadata": {},
   "outputs": [
    {
     "name": "stdout",
     "output_type": "stream",
     "text": [
      "ethanol conformers:  0\n",
      "is 3D?  True\n",
      "ethanol conformers:  1\n"
     ]
    }
   ],
   "source": [
    "ethanol = Chem.AddHs(ethanol) # doesn't create a conformer\n",
    "if ethanol.GetNumConformers() != 0:\n",
    "    print(\"is 3D? \", ethanol.GetConformer().Is3D())\n",
    "print(\"ethanol conformers: \", ethanol.GetNumConformers())\n",
    "AllChem.EmbedMolecule(ethanol)\n",
    "if ethanol.GetNumConformers() != 0:\n",
    "    print(\"is 3D? \", ethanol.GetConformer().Is3D())\n",
    "print(\"ethanol conformers: \", ethanol.GetNumConformers())"
   ]
  },
  {
   "cell_type": "code",
   "execution_count": 63,
   "metadata": {},
   "outputs": [
    {
     "data": {
      "image/png": "[encoded data removed]",
      "text/plain": [
       "<rdkit.Chem.rdchem.Mol at 0x2016a40ba00>"
      ]
     },
     "execution_count": 63,
     "metadata": {},
     "output_type": "execute_result"
    }
   ],
   "source": [
    "ethanol"
   ]
  },
  {
   "cell_type": "code",
   "execution_count": 71,
   "metadata": {},
   "outputs": [
    {
     "name": "stdout",
     "output_type": "stream",
     "text": [
      "0\n",
      "0.9475686225555011 0.17201498255487083 0.007022496262273061\n",
      "1\n",
      "-0.42601251062927625 -0.3762886476458132 -0.24860488566640554\n",
      "2\n",
      "-1.331865120622093 0.6714216150176535 -0.0952480698760103\n",
      "3\n",
      "1.1765783140328263 0.024981953525976555 1.0947718484076323\n",
      "4\n",
      "1.747785899345248 -0.3330971796390317 -0.5458645879451322\n",
      "5\n",
      "1.0054398291745557 1.2827292997412705 -0.1466424392852162\n",
      "6\n",
      "-0.6349081628046601 -1.1794098519154326 0.49731309353723874\n",
      "7\n",
      "-0.5619928640587442 -0.8090445004672021 -1.2483581479840553\n",
      "8\n",
      "-1.9225940069933531 0.5466923288277081 0.6856106925496762\n"
     ]
    },
    {
     "data": {
      "image/png": "[encoded data removed]",
      "text/plain": [
       "<rdkit.Chem.rdchem.Mol at 0x2016a40ba00>"
      ]
     },
     "execution_count": 71,
     "metadata": {},
     "output_type": "execute_result"
    }
   ],
   "source": [
    "for conformer_id in range(ethanol.GetNumConformers()):\n",
    "    for atom in ethanol.GetAtoms():\n",
    "        print(atom.GetIdx())\n",
    "        position = ethanol.GetConformer(conformer_id).GetAtomPosition(atom.GetIdx())\n",
    "        print(position.x, position.y, position.z)\n",
    "ethanol"
   ]
  },
  {
   "cell_type": "code",
   "execution_count": 6,
   "metadata": {},
   "outputs": [],
   "source": [
    "Chem.MolToMolFile(ethanol, 'Ethanol_postEmbed_day2.mol')\n"
   ]
  },
  {
   "cell_type": "code",
   "execution_count": 73,
   "metadata": {},
   "outputs": [
    {
     "name": "stdout",
     "output_type": "stream",
     "text": [
      "6\n",
      "C\n",
      "6\n",
      "C\n",
      "8\n",
      "O\n",
      "1\n",
      "H\n",
      "1\n",
      "H\n",
      "1\n",
      "H\n",
      "1\n",
      "H\n",
      "1\n",
      "H\n",
      "1\n",
      "H\n",
      "['ClearProp', 'DescribeQuery', 'GetAtomMapNum', 'GetAtomicNum', 'GetBonds', 'GetBoolProp', 'GetChiralTag', 'GetDegree', 'GetDoubleProp', 'GetExplicitBitVectProp', 'GetExplicitValence', 'GetFormalCharge', 'GetHybridization', 'GetIdx', 'GetImplicitValence', 'GetIntProp', 'GetIsAromatic', 'GetIsotope', 'GetMass', 'GetMonomerInfo', 'GetNeighbors', 'GetNoImplicit', 'GetNumExplicitHs', 'GetNumImplicitHs', 'GetNumRadicalElectrons', 'GetOwningMol', 'GetPDBResidueInfo', 'GetProp', 'GetPropNames', 'GetPropsAsDict', 'GetQueryType', 'GetSmarts', 'GetSymbol', 'GetTotalDegree', 'GetTotalNumHs', 'GetTotalValence', 'GetUnsignedProp', 'HasOwningMol', 'HasProp', 'HasQuery', 'InvertChirality', 'IsInRing', 'IsInRingSize', 'Match', 'NeedsUpdatePropertyCache', 'SetAtomMapNum', 'SetAtomicNum', 'SetBoolProp', 'SetChiralTag', 'SetDoubleProp', 'SetExplicitBitVectProp', 'SetFormalCharge', 'SetHybridization', 'SetIntProp', 'SetIsAromatic', 'SetIsotope', 'SetMonomerInfo', 'SetNoImplicit', 'SetNumExplicitHs', 'SetNumRadicalElectrons', 'SetPDBResidueInfo', 'SetProp', 'SetUnsignedProp', 'UpdatePropertyCache', '__class__', '__copy__', '__delattr__', '__dict__', '__dir__', '__doc__', '__eq__', '__format__', '__ge__', '__getattribute__', '__gt__', '__hash__', '__init__', '__init_subclass__', '__instance_size__', '__le__', '__lt__', '__module__', '__ne__', '__new__', '__reduce__', '__reduce_ex__', '__repr__', '__setattr__', '__sizeof__', '__str__', '__subclasshook__', '__weakref__']\n",
      "{'__computedProps': <rdkit.rdBase._vectclass std::basic_string<char,struct std::char_traits<char>,class std::allocator<char> > object at 0x000002016A481440>, 'origNoImplicit': False}\n"
     ]
    }
   ],
   "source": [
    "for atom in ethanol.GetAtoms():\n",
    "    print(atom.GetAtomicNum())\n",
    "    print(atom.GetSymbol())\n",
    "\n",
    "for atom in ethanol.GetAtoms():\n",
    "    print(dir(atom))\n",
    "    print(atom.GetPropsAsDict())\n",
    "    break"
   ]
  },
  {
   "cell_type": "code",
   "execution_count": 81,
   "metadata": {},
   "outputs": [
    {
     "name": "stdout",
     "output_type": "stream",
     "text": [
      "Read-only sequence of conformers, not constructible from Python.\n",
      "<method-wrapper '__str__' of _ROConformerSeq object at 0x000002016A477450>\n",
      "<rdkit.Chem.rdchem._ROConformerSeq object at 0x000002016A477450>\n"
     ]
    }
   ],
   "source": [
    "print(ethanol.GetConformers().__doc__)\n",
    "print(ethanol.GetConformers().__str__)\n",
    "print(ethanol.GetConformers())"
   ]
  },
  {
   "cell_type": "code",
   "execution_count": 82,
   "metadata": {},
   "outputs": [
    {
     "name": "stdout",
     "output_type": "stream",
     "text": [
      "<rdkit.Chem.rdchem.Conformer object at 0x000002016A477DF0>\n",
      "[-0.96814955  0.24906176 -0.04012432]\n",
      "[ 0.41837174 -0.29428107  0.22950922]\n",
      "[ 1.4190102   0.49875606 -0.29582483]\n",
      "[-1.68488105 -0.4442989   0.44727012]\n",
      "[-1.18614439  0.31842569 -1.12598705]\n",
      "[-1.03819064  1.23842415  0.47149521]\n",
      "[ 0.54751034 -0.27280893  1.34328001]\n",
      "[ 0.51757518 -1.35978024 -0.05651448]\n",
      "[ 1.97489817  0.06650149 -0.97310388]\n",
      "<rdkit.Chem.rdchem.Conformer object at 0x000002016A477DF0>\n",
      "[-0.83714926  0.3382819  -0.1556546 ]\n",
      "[ 0.38312485 -0.53944058 -0.18032891]\n",
      "[ 1.57305876  0.18475278 -0.19534355]\n",
      "[-0.59202313  1.40092088 -0.40374665]\n",
      "[-1.5847365   0.03329826 -0.93566339]\n",
      "[-1.35585676  0.25480077  0.83210699]\n",
      "[ 0.42318385 -1.1756441   0.74531721]\n",
      "[ 0.30897543 -1.25540177 -1.03061175]\n",
      "[ 1.68142277  0.75843186 -0.97282982]\n",
      "<rdkit.Chem.rdchem.Conformer object at 0x000002016A477DF0>\n",
      "[-0.88731181 -0.13979236  0.07888368]\n",
      "[0.45871083 0.52587075 0.01210257]\n",
      "[ 1.38768814 -0.43022342  0.47322383]\n",
      "[-0.74486259 -1.17744988 -0.34206655]\n",
      "[-1.30272641 -0.22798529  1.08098489]\n",
      "[-1.63746354  0.36665929 -0.57258612]\n",
      "[0.55646035 1.42522578 0.61076586]\n",
      "[ 0.66595007  0.7270809  -1.06845909]\n",
      "[ 1.50355496 -1.06938575 -0.27284907]\n"
     ]
    }
   ],
   "source": [
    "confs = AllChem.EmbedMultipleConfs(ethanol, 3)\n",
    "for conformer_id in range(ethanol.GetNumConformers()):\n",
    "    print(ethanol.GetConformer(conformer_id))\n",
    "    for position in ethanol.GetConformer(conformer_id).GetPositions():\n",
    "        print(position)"
   ]
  },
  {
   "cell_type": "code",
   "execution_count": 78,
   "metadata": {},
   "outputs": [
    {
     "name": "stdout",
     "output_type": "stream",
     "text": [
      "<rdkit.Chem.rdchem.Conformer object at 0x000002016A474510>\n",
      "<rdkit.Chem.rdchem.Conformer object at 0x000002016A474510>\n",
      "<rdkit.Chem.rdchem.Conformer object at 0x000002016A474510>\n",
      "['ClearComputedProps', 'ClearProp', 'GetAtomPosition', 'GetBoolProp', 'GetDoubleProp', 'GetId', 'GetIntProp', 'GetNumAtoms', 'GetOwningMol', 'GetPositions', 'GetProp', 'GetPropNames', 'GetPropsAsDict', 'GetUnsignedProp', 'HasOwningMol', 'HasProp', 'Is3D', 'Set3D', 'SetAtomPosition', 'SetBoolProp', 'SetDoubleProp', 'SetId', 'SetIntProp', 'SetProp', 'SetUnsignedProp', '__class__', '__delattr__', '__dict__', '__dir__', '__doc__', '__eq__', '__format__', '__ge__', '__getattribute__', '__gt__', '__hash__', '__init__', '__init_subclass__', '__instance_size__', '__le__', '__lt__', '__module__', '__ne__', '__new__', '__reduce__', '__reduce_ex__', '__repr__', '__setattr__', '__sizeof__', '__str__', '__subclasshook__', '__weakref__']\n",
      "['AddConformer', 'ClearComputedProps', 'ClearProp', 'Compute2DCoords', 'ComputeGasteigerCharges', 'Debug', 'GetAromaticAtoms', 'GetAtomWithIdx', 'GetAtoms', 'GetAtomsMatchingQuery', 'GetBondBetweenAtoms', 'GetBondWithIdx', 'GetBonds', 'GetBoolProp', 'GetConformer', 'GetConformers', 'GetDoubleProp', 'GetIntProp', 'GetNumAtoms', 'GetNumBonds', 'GetNumConformers', 'GetNumHeavyAtoms', 'GetProp', 'GetPropNames', 'GetPropsAsDict', 'GetRingInfo', 'GetStereoGroups', 'GetSubstructMatch', 'GetSubstructMatches', 'GetUnsignedProp', 'HasProp', 'HasSubstructMatch', 'NeedsUpdatePropertyCache', 'RemoveAllConformers', 'RemoveConformer', 'SetBoolProp', 'SetDoubleProp', 'SetIntProp', 'SetProp', 'SetUnsignedProp', 'ToBinary', 'UpdatePropertyCache', '__DebugMol', '__GetSubstructMatch', '__GetSubstructMatches', '__class__', '__copy__', '__deepcopy__', '__delattr__', '__dict__', '__dir__', '__doc__', '__eq__', '__format__', '__ge__', '__getattribute__', '__getinitargs__', '__gt__', '__hash__', '__init__', '__init_subclass__', '__instance_size__', '__le__', '__lt__', '__module__', '__ne__', '__new__', '__reduce__', '__reduce_ex__', '__repr__', '__safe_for_unpickling__', '__setattr__', '__sizeof__', '__str__', '__subclasshook__', '__weakref__', '_repr_html_', '_repr_png_', '_repr_svg_']\n"
     ]
    }
   ],
   "source": [
    "\n",
    "for conformer in ethanol.GetConformers(): \n",
    "    print(dir(conformer))\n",
    "    print(dir(conformer.GetOwningMol()))\n",
    "    break"
   ]
  },
  {
   "cell_type": "code",
   "execution_count": 19,
   "metadata": {},
   "outputs": [
    {
     "name": "stdout",
     "output_type": "stream",
     "text": [
      "6\n",
      "6\n",
      "8\n",
      "1\n",
      "1\n",
      "1\n",
      "1\n",
      "1\n",
      "1\n"
     ]
    }
   ],
   "source": [
    "for atom in ethanol.GetAtoms():\n",
    "    print(atom.GetAtomicNum())\n",
    "#print(dir(atom))"
   ]
  }
 ],
 "metadata": {
  "kernelspec": {
   "display_name": "Python 3",
   "language": "python",
   "name": "python3"
  },
  "language_info": {
   "codemirror_mode": {
    "name": "ipython",
    "version": 3
   },
   "file_extension": ".py",
   "mimetype": "text/x-python",
   "name": "python",
   "nbconvert_exporter": "python",
   "pygments_lexer": "ipython3",
   "version": "3.10.0"
  },
  "orig_nbformat": 4,
  "vscode": {
   "interpreter": {
    "hash": "0be956a77a4c4fbf44b600a6f9eb2d46be2a1971f98f17fca2b6e6ee6e47b8d2"
   }
  }
 },
 "nbformat": 4,
 "nbformat_minor": 2
}
