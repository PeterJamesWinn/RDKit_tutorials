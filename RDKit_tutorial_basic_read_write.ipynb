{
 "cells": [
  {
   "cell_type": "code",
   "execution_count": 1,
   "metadata": {},
   "outputs": [
    {
     "data": {
      "text/plain": [
       "0"
      ]
     },
     "execution_count": 1,
     "metadata": {},
     "output_type": "execute_result"
    }
   ],
   "source": [
    "# Reading and Writing Molecules\n",
    "from rdkit import Chem\n",
    "from rdkit.Chem import AllChem\n",
    "m = Chem.MolFromSmiles('Cc1ccccc1')\n",
    "AllChem.Compute2DCoords(m)\n"
   ]
  },
  {
   "cell_type": "code",
   "execution_count": 2,
   "metadata": {},
   "outputs": [
    {
     "data": {
      "image/png": "[encoded data removed]",
      "text/plain": [
       "<rdkit.Chem.rdchem.Mol at 0x1eeffe37140>"
      ]
     },
     "execution_count": 2,
     "metadata": {},
     "output_type": "execute_result"
    }
   ],
   "source": [
    "m"
   ]
  },
  {
   "cell_type": "code",
   "execution_count": 5,
   "metadata": {},
   "outputs": [
    {
     "data": {
      "image/png": "[encoded data removed]",
      "text/plain": [
       "<rdkit.Chem.rdchem.Mol at 0x206e2403ca0>"
      ]
     },
     "execution_count": 5,
     "metadata": {},
     "output_type": "execute_result"
    }
   ],
   "source": [
    "for atom in m.GetAtoms():\n",
    "        atom.SetAtomMapNum(atom.GetIdx())\n",
    "m"
   ]
  },
  {
   "cell_type": "code",
   "execution_count": 10,
   "metadata": {},
   "outputs": [
    {
     "name": "stdout",
     "output_type": "stream",
     "text": [
      "\n",
      "     RDKit          2D\n",
      "\n",
      "  7  7  0  0  0  0  0  0  0  0999 V2000\n",
      "    2.5714    0.0000    0.0000 C   0  0  0  0  0  0  0  0  0  0  0  0\n",
      "    1.0714   -0.0000    0.0000 C   0  0  0  0  0  0  0  0  0  0  0  0\n",
      "    0.3214   -1.2990    0.0000 C   0  0  0  0  0  0  0  0  0  0  0  0\n",
      "   -1.1786   -1.2990    0.0000 C   0  0  0  0  0  0  0  0  0  0  0  0\n",
      "   -1.9286    0.0000    0.0000 C   0  0  0  0  0  0  0  0  0  0  0  0\n",
      "   -1.1786    1.2990    0.0000 C   0  0  0  0  0  0  0  0  0  0  0  0\n",
      "    0.3214    1.2990    0.0000 C   0  0  0  0  0  0  0  0  0  0  0  0\n",
      "  1  2  1  0\n",
      "  2  3  2  0\n",
      "  3  4  1  0\n",
      "  4  5  2  0\n",
      "  5  6  1  0\n",
      "  6  7  2  0\n",
      "  7  2  1  0\n",
      "M  END\n",
      "\n"
     ]
    }
   ],
   "source": [
    "print(Chem.MolToMolBlock(m))"
   ]
  },
  {
   "cell_type": "code",
   "execution_count": 12,
   "metadata": {},
   "outputs": [
    {
     "name": "stdout",
     "output_type": "stream",
     "text": [
      "\n",
      "     RDKit          3D\n",
      "\n",
      " 15 15  0  0  0  0  0  0  0  0999 V2000\n",
      "    2.2092    0.1897   -0.0832 C   0  0  0  0  0  0  0  0  0  0  0  0\n",
      "    0.7295    0.0520   -0.0362 C   0  0  0  0  0  0  0  0  0  0  0  0\n",
      "    0.0889   -1.1634   -0.1601 C   0  0  0  0  0  0  0  0  0  0  0  0\n",
      "   -1.2841   -1.2886   -0.1162 C   0  0  0  0  0  0  0  0  0  0  0  0\n",
      "   -2.0914   -0.1831    0.0568 C   0  0  0  0  0  0  0  0  0  0  0  0\n",
      "   -1.4601    1.0358    0.1815 C   0  0  0  0  0  0  0  0  0  0  0  0\n",
      "   -0.0847    1.1549    0.1367 C   0  0  0  0  0  0  0  0  0  0  0  0\n",
      "    2.5204    1.1030    0.5021 H   0  0  0  0  0  0  0  0  0  0  0  0\n",
      "    2.6882   -0.6673    0.4742 H   0  0  0  0  0  0  0  0  0  0  0  0\n",
      "    2.6093    0.2665   -1.0947 H   0  0  0  0  0  0  0  0  0  0  0  0\n",
      "    0.7181   -2.0450   -0.2974 H   0  0  0  0  0  0  0  0  0  0  0  0\n",
      "   -1.7937   -2.2384   -0.2126 H   0  0  0  0  0  0  0  0  0  0  0  0\n",
      "   -3.1709   -0.2637    0.0935 H   0  0  0  0  0  0  0  0  0  0  0  0\n",
      "   -2.0908    1.9181    0.3190 H   0  0  0  0  0  0  0  0  0  0  0  0\n",
      "    0.4121    2.1294    0.2368 H   0  0  0  0  0  0  0  0  0  0  0  0\n",
      "  1  2  1  0\n",
      "  2  3  2  0\n",
      "  3  4  1  0\n",
      "  4  5  2  0\n",
      "  5  6  1  0\n",
      "  6  7  2  0\n",
      "  7  2  1  0\n",
      "  1  8  1  0\n",
      "  1  9  1  0\n",
      "  1 10  1  0\n",
      "  3 11  1  0\n",
      "  4 12  1  0\n",
      "  5 13  1  0\n",
      "  6 14  1  0\n",
      "  7 15  1  0\n",
      "M  END\n",
      "\n"
     ]
    }
   ],
   "source": [
    "mH = Chem.AddHs(m)\n",
    "AllChem.EmbedMolecule(mH)\n",
    "print(Chem.MolToMolBlock(mH))"
   ]
  },
  {
   "cell_type": "code",
   "execution_count": 4,
   "metadata": {},
   "outputs": [],
   "source": [
    "import streamlit as st\n",
    "Chem.Draw.MolToFile(m,'mol.png')\n",
    "\n",
    "#st.image(im)\n",
    "\n",
    "\n"
   ]
  },
  {
   "cell_type": "code",
   "execution_count": null,
   "metadata": {},
   "outputs": [],
   "source": [
    "stringWithMolData=open('data/input.mol','r').read()\n",
    "m = Chem.MolFromMolBLock(stringWithMolData)"
   ]
  }
 ],
 "metadata": {
  "kernelspec": {
   "display_name": "Python 3",
   "language": "python",
   "name": "python3"
  },
  "language_info": {
   "codemirror_mode": {
    "name": "ipython",
    "version": 3
   },
   "file_extension": ".py",
   "mimetype": "text/x-python",
   "name": "python",
   "nbconvert_exporter": "python",
   "pygments_lexer": "ipython3",
   "version": "3.10.0"
  },
  "orig_nbformat": 4,
  "vscode": {
   "interpreter": {
    "hash": "0be956a77a4c4fbf44b600a6f9eb2d46be2a1971f98f17fca2b6e6ee6e47b8d2"
   }
  }
 },
 "nbformat": 4,
 "nbformat_minor": 2
}
