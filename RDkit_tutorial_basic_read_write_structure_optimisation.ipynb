{
 "cells": [
  {
   "cell_type": "code",
   "execution_count": 1,
   "metadata": {},
   "outputs": [
    {
     "data": {
      "image/png": "[encoded data removed]",
      "text/plain": [
       "<rdkit.Chem.rdchem.Mol at 0x221221abf40>"
      ]
     },
     "execution_count": 1,
     "metadata": {},
     "output_type": "execute_result"
    }
   ],
   "source": [
    "from rdkit import Chem\n",
    "m = Chem.MolFromSmiles('Cc1ccccc1')\n",
    "m"
   ]
  },
  {
   "cell_type": "code",
   "execution_count": 3,
   "metadata": {},
   "outputs": [
    {
     "name": "stdout",
     "output_type": "stream",
     "text": [
      "<rdkit.Chem.rdchem.Atom object at 0x0000022122446960> 0\n",
      "<rdkit.Chem.rdchem.Atom object at 0x0000022122446340> 1\n",
      "<rdkit.Chem.rdchem.Atom object at 0x00000221224462D0> 2\n",
      "<rdkit.Chem.rdchem.Atom object at 0x00000221224469D0> 3\n",
      "<rdkit.Chem.rdchem.Atom object at 0x0000022122446A40> 4\n",
      "<rdkit.Chem.rdchem.Atom object at 0x0000022122446AB0> 5\n",
      "<rdkit.Chem.rdchem.Atom object at 0x0000022122446B20> 6\n",
      "['ClearProp', 'DescribeQuery', 'GetAtomMapNum', 'GetAtomicNum', 'GetBonds', 'GetBoolProp', 'GetChiralTag', 'GetDegree', 'GetDoubleProp', 'GetExplicitBitVectProp', 'GetExplicitValence', 'GetFormalCharge', 'GetHybridization', 'GetIdx', 'GetImplicitValence', 'GetIntProp', 'GetIsAromatic', 'GetIsotope', 'GetMass', 'GetMonomerInfo', 'GetNeighbors', 'GetNoImplicit', 'GetNumExplicitHs', 'GetNumImplicitHs', 'GetNumRadicalElectrons', 'GetOwningMol', 'GetPDBResidueInfo', 'GetProp', 'GetPropNames', 'GetPropsAsDict', 'GetQueryType', 'GetSmarts', 'GetSymbol', 'GetTotalDegree', 'GetTotalNumHs', 'GetTotalValence', 'GetUnsignedProp', 'HasOwningMol', 'HasProp', 'HasQuery', 'InvertChirality', 'IsInRing', 'IsInRingSize', 'Match', 'NeedsUpdatePropertyCache', 'SetAtomMapNum', 'SetAtomicNum', 'SetBoolProp', 'SetChiralTag', 'SetDoubleProp', 'SetExplicitBitVectProp', 'SetFormalCharge', 'SetHybridization', 'SetIntProp', 'SetIsAromatic', 'SetIsotope', 'SetMonomerInfo', 'SetNoImplicit', 'SetNumExplicitHs', 'SetNumRadicalElectrons', 'SetPDBResidueInfo', 'SetProp', 'SetUnsignedProp', 'UpdatePropertyCache', '__class__', '__copy__', '__delattr__', '__dict__', '__dir__', '__doc__', '__eq__', '__format__', '__ge__', '__getattribute__', '__gt__', '__hash__', '__init__', '__init_subclass__', '__instance_size__', '__le__', '__lt__', '__module__', '__ne__', '__new__', '__reduce__', '__reduce_ex__', '__repr__', '__setattr__', '__sizeof__', '__str__', '__subclasshook__', '__weakref__']\n"
     ]
    }
   ],
   "source": [
    "for atom in m.GetAtoms():\n",
    "    print(atom, atom.GetIdx())\n",
    "\n",
    "print(dir(atom))\n"
   ]
  },
  {
   "cell_type": "code",
   "execution_count": 5,
   "metadata": {},
   "outputs": [
    {
     "name": "stdout",
     "output_type": "stream",
     "text": [
      "['AddConformer', 'ClearComputedProps', 'ClearProp', 'Debug', 'GetAromaticAtoms', 'GetAtomWithIdx', 'GetAtoms', 'GetAtomsMatchingQuery', 'GetBondBetweenAtoms', 'GetBondWithIdx', 'GetBonds', 'GetBoolProp', 'GetConformer', 'GetConformers', 'GetDoubleProp', 'GetIntProp', 'GetNumAtoms', 'GetNumBonds', 'GetNumConformers', 'GetNumHeavyAtoms', 'GetProp', 'GetPropNames', 'GetPropsAsDict', 'GetRingInfo', 'GetStereoGroups', 'GetSubstructMatch', 'GetSubstructMatches', 'GetUnsignedProp', 'HasProp', 'HasSubstructMatch', 'NeedsUpdatePropertyCache', 'RemoveAllConformers', 'RemoveConformer', 'SetBoolProp', 'SetDoubleProp', 'SetIntProp', 'SetProp', 'SetUnsignedProp', 'ToBinary', 'UpdatePropertyCache', '__DebugMol', '__GetSubstructMatch', '__GetSubstructMatches', '__class__', '__copy__', '__deepcopy__', '__delattr__', '__dict__', '__dir__', '__doc__', '__eq__', '__format__', '__ge__', '__getattribute__', '__getinitargs__', '__gt__', '__hash__', '__init__', '__init_subclass__', '__instance_size__', '__le__', '__lt__', '__module__', '__ne__', '__new__', '__reduce__', '__reduce_ex__', '__repr__', '__safe_for_unpickling__', '__setattr__', '__sizeof__', '__str__', '__subclasshook__', '__weakref__', '_repr_html_', '_repr_png_', '_repr_svg_']\n"
     ]
    }
   ],
   "source": [
    "print(dir(m))"
   ]
  },
  {
   "cell_type": "code",
   "execution_count": 6,
   "metadata": {},
   "outputs": [
    {
     "data": {
      "image/png": "[encoded data removed]",
      "text/plain": [
       "<rdkit.Chem.rdchem.Mol at 0x221221abf40>"
      ]
     },
     "execution_count": 6,
     "metadata": {},
     "output_type": "execute_result"
    }
   ],
   "source": [
    "for atom in m.GetAtoms():\n",
    "    atom.SetAtomMapNum(atom.GetIdx())\n",
    "m"
   ]
  },
  {
   "cell_type": "code",
   "execution_count": 7,
   "metadata": {},
   "outputs": [
    {
     "data": {
      "text/plain": [
       "7"
      ]
     },
     "execution_count": 7,
     "metadata": {},
     "output_type": "execute_result"
    }
   ],
   "source": [
    "m.GetNumAtoms()"
   ]
  },
  {
   "cell_type": "code",
   "execution_count": 8,
   "metadata": {},
   "outputs": [
    {
     "data": {
      "image/png": "[encoded data removed]",
      "text/plain": [
       "<rdkit.Chem.rdchem.Mol at 0x2212291fa70>"
      ]
     },
     "execution_count": 8,
     "metadata": {},
     "output_type": "execute_result"
    }
   ],
   "source": [
    "m = Chem.AddHs(m)\n",
    "m"
   ]
  },
  {
   "cell_type": "code",
   "execution_count": 9,
   "metadata": {},
   "outputs": [
    {
     "data": {
      "text/plain": [
       "'\\n     RDKit          2D\\n\\n 15 15  0  0  0  0  0  0  0  0999 V2000\\n    3.0000    0.0000    0.0000 C   0  0  0  0  0  0  0  0  0  0  0  0\\n    1.5000    0.0000    0.0000 C   0  0  0  0  0  0  0  0  0  1  0  0\\n    0.7500   -1.2990    0.0000 C   0  0  0  0  0  0  0  0  0  2  0  0\\n   -0.7500   -1.2990    0.0000 C   0  0  0  0  0  0  0  0  0  3  0  0\\n   -1.5000    0.0000    0.0000 C   0  0  0  0  0  0  0  0  0  4  0  0\\n   -0.7500    1.2990    0.0000 C   0  0  0  0  0  0  0  0  0  5  0  0\\n    0.7500    1.2990    0.0000 C   0  0  0  0  0  0  0  0  0  6  0  0\\n    4.5000    0.0000    0.0000 H   0  0  0  0  0  0  0  0  0  0  0  0\\n    3.0000   -1.5000    0.0000 H   0  0  0  0  0  0  0  0  0  0  0  0\\n    3.0000    1.5000    0.0000 H   0  0  0  0  0  0  0  0  0  0  0  0\\n    1.5000   -2.5981    0.0000 H   0  0  0  0  0  0  0  0  0  0  0  0\\n   -1.5000   -2.5981    0.0000 H   0  0  0  0  0  0  0  0  0  0  0  0\\n   -3.0000    0.0000    0.0000 H   0  0  0  0  0  0  0  0  0  0  0  0\\n   -1.5000    2.5981    0.0000 H   0  0  0  0  0  0  0  0  0  0  0  0\\n    1.5000    2.5981    0.0000 H   0  0  0  0  0  0  0  0  0  0  0  0\\n  1  2  1  0\\n  2  3  2  0\\n  3  4  1  0\\n  4  5  2  0\\n  5  6  1  0\\n  6  7  2  0\\n  7  2  1  0\\n  1  8  1  0\\n  1  9  1  0\\n  1 10  1  0\\n  3 11  1  0\\n  4 12  1  0\\n  5 13  1  0\\n  6 14  1  0\\n  7 15  1  0\\nM  END\\n'"
      ]
     },
     "execution_count": 9,
     "metadata": {},
     "output_type": "execute_result"
    }
   ],
   "source": [
    "coord = Chem.MolToMolBlock(m)\n",
    "coord"
   ]
  },
  {
   "cell_type": "code",
   "execution_count": 11,
   "metadata": {},
   "outputs": [
    {
     "data": {
      "text/plain": [
       "1317"
      ]
     },
     "execution_count": 11,
     "metadata": {},
     "output_type": "execute_result"
    }
   ],
   "source": [
    "open(\"temp1\",'w').write(coord)\n"
   ]
  },
  {
   "cell_type": "code",
   "execution_count": 12,
   "metadata": {},
   "outputs": [],
   "source": [
    "temp = open('temp','w')\n",
    "temp.write(coord)\n",
    "temp.close()\n",
    "\n",
    "\n"
   ]
  },
  {
   "cell_type": "code",
   "execution_count": null,
   "metadata": {},
   "outputs": [],
   "source": [
    "AllChem.EmbedMolecule(mol)\n",
    "AllChem.UFFOptimizeMolecule(mol)\n",
    "Chem.MolToPDBFile(mol, 'output.pdb')"
   ]
  },
  {
   "cell_type": "code",
   "execution_count": 1,
   "metadata": {},
   "outputs": [],
   "source": [
    "from rdkit import Chem\n",
    "from rdkit.Chem import AllChem\n",
    "\n",
    "mol = Chem.MolFromSmiles('CCO')\n",
    "mol = Chem.AddHs(mol)\n",
    "Chem.MolToPDBFile(mol, 'Ethanol2D.pdb')\n",
    "\n",
    "AllChem.EmbedMolecule(mol)\n",
    "AllChem.UFFOptimizeMolecule(mol)\n",
    "Chem.MolToPDBFile(mol, 'Ethanol3D.pdb')"
   ]
  },
  {
   "cell_type": "code",
   "execution_count": 3,
   "metadata": {},
   "outputs": [],
   "source": [
    "from rdkit import Chem\n",
    "\n",
    "# Create a molecule object from a SMILES string\n",
    "mol2 = Chem.MolFromSmiles('CCO')\n",
    "mol2 = Chem.AddHs(mol2)\n",
    "mol2.SetProp(\"_Name\",\"Ethanol\")\n",
    "Chem.MolToMolFile(mol2, 'Ethanol2D_pre_opt.mol')\n",
    "AllChem.UFFOptimizeMolecule(mol)\n",
    "\n",
    "# Write the molecule to a mol file\n",
    "Chem.MolToMolFile(mol2, 'Ethanol2D_post_opt.mol')\n",
    "\n",
    "AllChem.EmbedMolecule(mol2)\n",
    "AllChem.UFFOptimizeMolecule(mol2)\n",
    "Chem.MolToMolFile(mol2, 'Ethanol_postEmbed.mol')\n",
    "\n"
   ]
  },
  {
   "cell_type": "code",
   "execution_count": null,
   "metadata": {},
   "outputs": [],
   "source": [
    "from rdkit import Chem\n",
    "from rdkit.Chem import AllChem\n",
    "\n",
    "mol = Chem.MolFromSmiles('CCO')\n",
    "AllChem.EmbedMolecule(mol)\n",
    "AllChem.UFFOptimizeMolecule(mol)\n",
    "Chem.MolToXYZFile(mol, 'output.xyz')"
   ]
  }
 ],
 "metadata": {
  "kernelspec": {
   "display_name": "Python 3",
   "language": "python",
   "name": "python3"
  },
  "language_info": {
   "codemirror_mode": {
    "name": "ipython",
    "version": 3
   },
   "file_extension": ".py",
   "mimetype": "text/x-python",
   "name": "python",
   "nbconvert_exporter": "python",
   "pygments_lexer": "ipython3",
   "version": "3.10.0"
  },
  "orig_nbformat": 4,
  "vscode": {
   "interpreter": {
    "hash": "0be956a77a4c4fbf44b600a6f9eb2d46be2a1971f98f17fca2b6e6ee6e47b8d2"
   }
  }
 },
 "nbformat": 4,
 "nbformat_minor": 2
}
